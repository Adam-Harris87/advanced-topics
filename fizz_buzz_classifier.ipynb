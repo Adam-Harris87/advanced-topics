{
  "nbformat": 4,
  "nbformat_minor": 0,
  "metadata": {
    "kernelspec": {
      "display_name": "Python 3",
      "language": "python",
      "name": "python3"
    },
    "language_info": {
      "codemirror_mode": {
        "name": "ipython",
        "version": 3
      },
      "file_extension": ".py",
      "mimetype": "text/x-python",
      "name": "python",
      "nbconvert_exporter": "python",
      "pygments_lexer": "ipython3",
      "version": "3.8.5"
    },
    "colab": {
      "provenance": [],
      "include_colab_link": true
    }
  },
  "cells": [
    {
      "cell_type": "markdown",
      "metadata": {
        "id": "view-in-github",
        "colab_type": "text"
      },
      "source": [
        "<a href=\"https://colab.research.google.com/github/Adam-Harris87/advanced-topics/blob/main/fizz_buzz_classifier.ipynb\" target=\"_parent\"><img src=\"https://colab.research.google.com/assets/colab-badge.svg\" alt=\"Open In Colab\"/></a>"
      ]
    },
    {
      "cell_type": "markdown",
      "metadata": {
        "id": "w4NinOSa9cNa"
      },
      "source": [
        "# Solving FizzBuzz with Keras"
      ]
    },
    {
      "cell_type": "markdown",
      "metadata": {
        "id": "0StupTcv9cNc"
      },
      "source": [
        "## Overview\n",
        "- This notebook provides an example Keras network to solve FizzBuzz.\n",
        "- This is a supervised classification problem, so we'll train our model on labeled data.\n"
      ]
    },
    {
      "cell_type": "markdown",
      "metadata": {
        "id": "Fzth4Fox9cNc"
      },
      "source": [
        "## What is FizzBuzz?\n",
        "FizzBuzz is a common programming interview problem. Here's the setup.\n",
        "- Write a program that outputs all the integers from 1 to 100.\n",
        "- If the number is a multpile of 3, then output the string \"Fizz\"\n",
        "- If the number is a multiple of 5, then output the string \"Buzz\"\n",
        "- If the number is a multiple of 15, output the string \"FizzBuzz\"\n",
        "- For any other number, output that, number itself."
      ]
    },
    {
      "cell_type": "code",
      "metadata": {
        "id": "fZCzteSU9cNd"
      },
      "source": [
        "import warnings\n",
        "warnings.filterwarnings('ignore')\n",
        "\n",
        "# imports\n",
        "import numpy as np\n",
        "from keras.models import Sequential\n",
        "from keras.layers import Dense\n",
        "from keras.utils import np_utils\n",
        "from keras.models import Model"
      ],
      "execution_count": null,
      "outputs": []
    },
    {
      "cell_type": "code",
      "metadata": {
        "id": "HkIgXZeO9cNe"
      },
      "source": [
        "# Specify the number of binary digits. \n",
        "NUM_DIGITS = 10"
      ],
      "execution_count": null,
      "outputs": []
    },
    {
      "cell_type": "code",
      "metadata": {
        "id": "F2jOy7hE9cNe"
      },
      "source": [
        "## Setup the training data for 101-1024. 1024 is the highest number countable with 10 binary digits\n",
        "raw_training_data = np.array(range(101, 2**NUM_DIGITS))"
      ],
      "execution_count": null,
      "outputs": []
    },
    {
      "cell_type": "code",
      "metadata": {
        "id": "ovvgFMQs9cNe",
        "outputId": "147760b6-9f67-4a9b-a1cb-c5212610dde0",
        "colab": {
          "base_uri": "https://localhost:8080/"
        }
      },
      "source": [
        "## This is a numpy array of integers.\n",
        "raw_training_data[0:20]"
      ],
      "execution_count": null,
      "outputs": [
        {
          "output_type": "execute_result",
          "data": {
            "text/plain": [
              "array([101, 102, 103, 104, 105, 106, 107, 108, 109, 110, 111, 112, 113,\n",
              "       114, 115, 116, 117, 118, 119, 120])"
            ]
          },
          "metadata": {
            "tags": []
          },
          "execution_count": 4
        }
      ]
    },
    {
      "cell_type": "code",
      "metadata": {
        "id": "w1gCUMcS9cNf"
      },
      "source": [
        "# We need to binary encode our inputs\n",
        "def binary_encode(i, NUM_DIGITS):\n",
        "    return np.array([i >> d & 1 for d in range(NUM_DIGITS)])"
      ],
      "execution_count": null,
      "outputs": []
    },
    {
      "cell_type": "code",
      "metadata": {
        "id": "urFGsnoi9cNf",
        "outputId": "0e8fe64b-e7a6-4163-de78-3fe9ca8a2ca9",
        "colab": {
          "base_uri": "https://localhost:8080/"
        }
      },
      "source": [
        "print(1, binary_encode(1, NUM_DIGITS))\n",
        "print(2, binary_encode(2, NUM_DIGITS))\n",
        "print(3, binary_encode(3, NUM_DIGITS))\n",
        "print(4, binary_encode(4, NUM_DIGITS))\n"
      ],
      "execution_count": null,
      "outputs": [
        {
          "output_type": "stream",
          "text": [
            "1 [1 0 0 0 0 0 0 0 0 0]\n",
            "2 [0 1 0 0 0 0 0 0 0 0]\n",
            "3 [1 1 0 0 0 0 0 0 0 0]\n",
            "4 [0 0 1 0 0 0 0 0 0 0]\n"
          ],
          "name": "stdout"
        }
      ]
    },
    {
      "cell_type": "code",
      "metadata": {
        "id": "-OJ8Ryo19cNf",
        "outputId": "271f133b-18c8-4301-a209-4a3e5c0ef50a",
        "colab": {
          "base_uri": "https://localhost:8080/"
        }
      },
      "source": [
        "binary_encode(3, NUM_DIGITS)"
      ],
      "execution_count": null,
      "outputs": [
        {
          "output_type": "execute_result",
          "data": {
            "text/plain": [
              "array([1, 1, 0, 0, 0, 0, 0, 0, 0, 0])"
            ]
          },
          "metadata": {
            "tags": []
          },
          "execution_count": 7
        }
      ]
    },
    {
      "cell_type": "code",
      "metadata": {
        "id": "DnDkCvf79cNg"
      },
      "source": [],
      "execution_count": null,
      "outputs": []
    },
    {
      "cell_type": "code",
      "metadata": {
        "id": "0n3M1CFU9cNg",
        "outputId": "fae6d247-c74b-425d-a525-6eeb2c5efecc",
        "colab": {
          "base_uri": "https://localhost:8080/"
        }
      },
      "source": [
        "print(256, binary_encode(256, NUM_DIGITS))\n",
        "print(512, binary_encode(512, NUM_DIGITS))\n",
        "print(1023, binary_encode(1023, NUM_DIGITS))"
      ],
      "execution_count": null,
      "outputs": [
        {
          "output_type": "stream",
          "text": [
            "256 [0 0 0 0 0 0 0 0 1 0]\n",
            "512 [0 0 0 0 0 0 0 0 0 1]\n",
            "1023 [1 1 1 1 1 1 1 1 1 1]\n"
          ],
          "name": "stdout"
        }
      ]
    },
    {
      "cell_type": "code",
      "metadata": {
        "id": "87M4qEHr9cNg"
      },
      "source": [
        "encoded_training_data = [binary_encode(i, NUM_DIGITS) for i in raw_training_data]"
      ],
      "execution_count": null,
      "outputs": []
    },
    {
      "cell_type": "code",
      "metadata": {
        "id": "aPj_d5Ml9cNh",
        "outputId": "691e0733-a12f-453a-d8c0-8c4d4d46004c",
        "colab": {
          "base_uri": "https://localhost:8080/"
        }
      },
      "source": [
        "x_train = np.array(encoded_training_data)\n",
        "x_train[0]"
      ],
      "execution_count": null,
      "outputs": [
        {
          "output_type": "execute_result",
          "data": {
            "text/plain": [
              "array([1, 0, 1, 0, 0, 1, 1, 0, 0, 0])"
            ]
          },
          "metadata": {
            "tags": []
          },
          "execution_count": 10
        }
      ]
    },
    {
      "cell_type": "code",
      "metadata": {
        "id": "KVv53nHY9cNi"
      },
      "source": [],
      "execution_count": null,
      "outputs": []
    },
    {
      "cell_type": "code",
      "metadata": {
        "id": "dRp466h59cNi"
      },
      "source": [
        "# List out the state space. What are the different states that the data could be in:\n",
        "# there's only 4 options/states in the FizzBuzz setup\n",
        "# A number is a multiple of 3 and 5, only 3, only 5, or it ain't\n",
        "# Now we'll need to one hot encode the training data for y\n",
        "def fizz_buzz_encode(i):\n",
        "    if i % 15 == 0:\n",
        "        return np.array([0, 0, 0, 1]) # encoding for \"fizzbuzz\"\n",
        "    elif i % 5 == 0: \n",
        "        return np.array([0, 0, 1, 0]) # encoding for \"buzz\"\n",
        "    elif i % 3  == 0: \n",
        "        return np.array([0, 1, 0, 0]) # encoding for \"fizz\"\n",
        "    else:\n",
        "        return np.array([1, 0, 0, 0]) # encoding for the number output"
      ],
      "execution_count": null,
      "outputs": []
    },
    {
      "cell_type": "code",
      "metadata": {
        "id": "mCF-UXPM9cNi",
        "outputId": "ad27a33a-ed4d-4aa8-a484-50c4380690ee",
        "colab": {
          "base_uri": "https://localhost:8080/"
        }
      },
      "source": [
        "print(\"Return only the number\", fizz_buzz_encode(1))\n",
        "print(\"Multiple of 3\", fizz_buzz_encode(3))\n",
        "print(\"Multiple of 5\", fizz_buzz_encode(5))\n",
        "print(\"Return only the number\", fizz_buzz_encode(7))\n",
        "print(\"Multiple of both 3 and 5\", fizz_buzz_encode(15))"
      ],
      "execution_count": null,
      "outputs": [
        {
          "output_type": "stream",
          "text": [
            "Return only the number [1 0 0 0]\n",
            "Multiple of 3 [0 1 0 0]\n",
            "Multiple of 5 [0 0 1 0]\n",
            "Return only the number [1 0 0 0]\n",
            "Multiple of both 3 and 5 [0 0 0 1]\n"
          ],
          "name": "stdout"
        }
      ]
    },
    {
      "cell_type": "code",
      "metadata": {
        "scrolled": true,
        "id": "D2WEnxl_9cNi",
        "outputId": "cd0e8d55-1e18-41fe-e173-e62d9ffa6127",
        "colab": {
          "base_uri": "https://localhost:8080/"
        }
      },
      "source": [
        "# y_train is the encoded output. \n",
        "# This is our \"labeled data\" for supervised learning\n",
        "y_train = np.array([fizz_buzz_encode(i) for i in range(101, 2 ** NUM_DIGITS)])\n",
        "y_train"
      ],
      "execution_count": null,
      "outputs": [
        {
          "output_type": "execute_result",
          "data": {
            "text/plain": [
              "array([[1, 0, 0, 0],\n",
              "       [0, 1, 0, 0],\n",
              "       [1, 0, 0, 0],\n",
              "       ...,\n",
              "       [1, 0, 0, 0],\n",
              "       [1, 0, 0, 0],\n",
              "       [0, 1, 0, 0]])"
            ]
          },
          "metadata": {
            "tags": []
          },
          "execution_count": 13
        }
      ]
    },
    {
      "cell_type": "code",
      "metadata": {
        "id": "O4JNS4X_9cNi"
      },
      "source": [
        "# Now let's build our model, add layers, compile, and fit it!\n",
        "model = Sequential()"
      ],
      "execution_count": null,
      "outputs": []
    },
    {
      "cell_type": "code",
      "metadata": {
        "id": "YSZ0tyqm9cNi"
      },
      "source": [
        "## Add the model's layers. \n",
        "model.add(Dense(1000, input_dim=NUM_DIGITS, activation=\"relu\"))\n",
        "model.add(Dense(1000, activation=\"relu\"))\n",
        "model.add(Dense(4, activation=\"softmax\"))"
      ],
      "execution_count": null,
      "outputs": []
    },
    {
      "cell_type": "code",
      "metadata": {
        "id": "dKsAqvBn9cNj"
      },
      "source": [
        "# categorical cross entropy is the recommended loss function for \n",
        "# metrics is a good\n",
        "model.compile(loss='categorical_crossentropy', optimizer='adagrad', metrics=[\"accuracy\"])"
      ],
      "execution_count": null,
      "outputs": []
    },
    {
      "cell_type": "code",
      "metadata": {
        "id": "xTVkxJgf9cNj",
        "outputId": "d80297e8-de29-4a48-8d87-728e728dce53",
        "colab": {
          "base_uri": "https://localhost:8080/"
        }
      },
      "source": [
        "model.fit(x_train, y_train, epochs=10, batch_size=128)"
      ],
      "execution_count": null,
      "outputs": [
        {
          "output_type": "stream",
          "text": [
            "Epoch 1/10\n",
            "8/8 [==============================] - 15s 25ms/step - loss: 1.3895 - accuracy: 0.2364\n",
            "Epoch 2/10\n",
            "8/8 [==============================] - 0s 27ms/step - loss: 1.3700 - accuracy: 0.4277\n",
            "Epoch 3/10\n",
            "8/8 [==============================] - 0s 26ms/step - loss: 1.3512 - accuracy: 0.4943\n",
            "Epoch 4/10\n",
            "8/8 [==============================] - 0s 25ms/step - loss: 1.3300 - accuracy: 0.5299\n",
            "Epoch 5/10\n",
            "8/8 [==============================] - 0s 27ms/step - loss: 1.3167 - accuracy: 0.5386\n",
            "Epoch 6/10\n",
            "8/8 [==============================] - 0s 22ms/step - loss: 1.3072 - accuracy: 0.5183\n",
            "Epoch 7/10\n",
            "8/8 [==============================] - 0s 22ms/step - loss: 1.2890 - accuracy: 0.5376\n",
            "Epoch 8/10\n",
            "8/8 [==============================] - 0s 23ms/step - loss: 1.2781 - accuracy: 0.5341\n",
            "Epoch 9/10\n",
            "8/8 [==============================] - 0s 23ms/step - loss: 1.2683 - accuracy: 0.5352\n",
            "Epoch 10/10\n",
            "8/8 [==============================] - 0s 24ms/step - loss: 1.2681 - accuracy: 0.5212\n"
          ],
          "name": "stdout"
        },
        {
          "output_type": "execute_result",
          "data": {
            "text/plain": [
              "<keras.callbacks.History at 0x7faeabc3d090>"
            ]
          },
          "metadata": {
            "tags": []
          },
          "execution_count": 18
        }
      ]
    },
    {
      "cell_type": "markdown",
      "metadata": {
        "id": "P43Uqyq19cNj"
      },
      "source": []
    },
    {
      "cell_type": "code",
      "metadata": {
        "id": "-K_DxLdC9cNj"
      },
      "source": [
        "# convert fizzbuzz to binary\n",
        "def fizz_buzz(i, prediction):\n",
        "    return [str(i), \"fizz\", \"buzz\", \"fizzbuzz\"][prediction]\n"
      ],
      "execution_count": null,
      "outputs": []
    },
    {
      "cell_type": "code",
      "metadata": {
        "id": "q32m5j0C9cNj"
      },
      "source": [
        "# Setup x_test  fizzbuzz for prime numbers from 1 to 100\n",
        "numbers = np.arange(1, 101)\n",
        "x_test = np.transpose(binary_encode(numbers, NUM_DIGITS))\n",
        "y_test = model.predict_classes(x_test)"
      ],
      "execution_count": null,
      "outputs": []
    },
    {
      "cell_type": "code",
      "metadata": {
        "id": "XURzcu-69cNj",
        "outputId": "29598a47-9d64-4d9e-c32b-4c0918d62929",
        "colab": {
          "base_uri": "https://localhost:8080/"
        }
      },
      "source": [
        "# Setup predicted output\n",
        "predictions = np.vectorize(fizz_buzz)(numbers, y_test)\n",
        "print (predictions)"
      ],
      "execution_count": null,
      "outputs": [
        {
          "output_type": "stream",
          "text": [
            "['1' '2' '3' '4' '5' '6' '7' '8' '9' '10' '11' '12' '13' '14' '15' '16'\n",
            " '17' '18' '19' '20' '21' '22' '23' '24' '25' '26' '27' '28' '29' '30'\n",
            " '31' '32' '33' '34' '35' '36' '37' '38' '39' '40' '41' '42' '43' '44'\n",
            " '45' '46' '47' '48' '49' '50' '51' '52' '53' '54' '55' '56' '57' '58'\n",
            " '59' '60' '61' '62' '63' '64' '65' '66' '67' '68' '69' '70' '71' '72'\n",
            " '73' '74' '75' '76' '77' '78' '79' '80' '81' '82' '83' '84' '85' '86'\n",
            " '87' '88' '89' '90' '91' '92' '93' '94' '95' '96' '97' '98' '99' '100']\n"
          ],
          "name": "stdout"
        }
      ]
    },
    {
      "cell_type": "code",
      "metadata": {
        "id": "J_UUh3ql9cNj",
        "outputId": "d07fac4a-278f-4aae-e90e-b0805f175d7d",
        "colab": {
          "base_uri": "https://localhost:8080/"
        }
      },
      "source": [
        "# correct answers for fizzbuzz on 1-100, these are our actual values\n",
        "answer = np.array([])\n",
        "for i in numbers:\n",
        "    if i % 15 == 0: \n",
        "        answer = np.append(answer, \"fizzbuzz\")\n",
        "    elif i % 5 == 0: \n",
        "        answer = np.append(answer, \"buzz\")\n",
        "    elif i % 3 == 0: \n",
        "        answer = np.append(answer, \"fizz\")\n",
        "    else: answer = np.append(answer, str(i))\n",
        "print (answer)"
      ],
      "execution_count": null,
      "outputs": [
        {
          "output_type": "stream",
          "text": [
            "['1' '2' 'fizz' '4' 'buzz' 'fizz' '7' '8' 'fizz' 'buzz' '11' 'fizz' '13'\n",
            " '14' 'fizzbuzz' '16' '17' 'fizz' '19' 'buzz' 'fizz' '22' '23' 'fizz'\n",
            " 'buzz' '26' 'fizz' '28' '29' 'fizzbuzz' '31' '32' 'fizz' '34' 'buzz'\n",
            " 'fizz' '37' '38' 'fizz' 'buzz' '41' 'fizz' '43' '44' 'fizzbuzz' '46' '47'\n",
            " 'fizz' '49' 'buzz' 'fizz' '52' '53' 'fizz' 'buzz' '56' 'fizz' '58' '59'\n",
            " 'fizzbuzz' '61' '62' 'fizz' '64' 'buzz' 'fizz' '67' '68' 'fizz' 'buzz'\n",
            " '71' 'fizz' '73' '74' 'fizzbuzz' '76' '77' 'fizz' '79' 'buzz' 'fizz' '82'\n",
            " '83' 'fizz' 'buzz' '86' 'fizz' '88' '89' 'fizzbuzz' '91' '92' 'fizz' '94'\n",
            " 'buzz' 'fizz' '97' '98' 'fizz' 'buzz']\n"
          ],
          "name": "stdout"
        }
      ]
    },
    {
      "cell_type": "code",
      "metadata": {
        "id": "jDvVNRk59cNk",
        "outputId": "05da3a07-ce35-44e0-8884-145fc5e14e9c",
        "colab": {
          "base_uri": "https://localhost:8080/"
        }
      },
      "source": [
        "# Let's evaluate the model's predictions\n",
        "evaluate = np.array(answer == predictions)\n",
        "print (np.count_nonzero(evaluate == True) / 100)"
      ],
      "execution_count": null,
      "outputs": [
        {
          "output_type": "stream",
          "text": [
            "0.53\n"
          ],
          "name": "stdout"
        }
      ]
    },
    {
      "cell_type": "code",
      "metadata": {
        "id": "X_hZs97h9cNk",
        "outputId": "46beaf60-a255-45ad-f5f0-b4380cf1b50e",
        "colab": {
          "base_uri": "https://localhost:8080/"
        }
      },
      "source": [
        "answer == predictions"
      ],
      "execution_count": null,
      "outputs": [
        {
          "output_type": "execute_result",
          "data": {
            "text/plain": [
              "array([ True,  True, False,  True, False, False,  True,  True, False,\n",
              "       False,  True, False,  True,  True, False,  True,  True, False,\n",
              "        True, False, False,  True,  True, False, False,  True, False,\n",
              "        True,  True, False,  True,  True, False,  True, False, False,\n",
              "        True,  True, False, False,  True, False,  True,  True, False,\n",
              "        True,  True, False,  True, False, False,  True,  True, False,\n",
              "       False,  True, False,  True,  True, False,  True,  True, False,\n",
              "        True, False, False,  True,  True, False, False,  True, False,\n",
              "        True,  True, False,  True,  True, False,  True, False, False,\n",
              "        True,  True, False, False,  True, False,  True,  True, False,\n",
              "        True,  True, False,  True, False, False,  True,  True, False,\n",
              "       False])"
            ]
          },
          "metadata": {
            "tags": []
          },
          "execution_count": 24
        }
      ]
    },
    {
      "cell_type": "markdown",
      "metadata": {
        "id": "GHpOCbUh9cNk"
      },
      "source": [
        "# Exercise\n",
        "1. Reassign the NUM_DIGITS to be 5 and re-run the notebook. What do you notice? Take note of the accuracy number.\n",
        "2. Reassign the NUM_DIGITS to be 11 and re-run the notebook. What do you notice? Take note of the accuracy number. \n",
        "3. In the `model.fit` code, change the nb_epoch to be a lower number and then completely rerun the notebook?\n",
        "4. In the `model.fit` code, change the nb_epoch to be a higher number and then completely rerun the notebook?\n",
        "5. Experiment with adding extra layers to the model\n",
        "6. Experiment with changing the first number of layers argument going into `model.add(Dense(1000, activation=\"relu\"))`\n",
        "7. Experiment with different activation functions (look to the Keras documentation)\n",
        "8. How good can your model get in classifying out-of-sample numbers for FizzBuzz?"
      ]
    },
    {
      "cell_type": "code",
      "metadata": {
        "id": "0abAEWFA9cNk"
      },
      "source": [],
      "execution_count": null,
      "outputs": []
    }
  ]
}