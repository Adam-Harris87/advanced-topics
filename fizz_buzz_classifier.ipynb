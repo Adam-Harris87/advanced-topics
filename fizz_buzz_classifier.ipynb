{
 "cells": [
  {
   "cell_type": "markdown",
   "metadata": {
    "colab_type": "text",
    "id": "view-in-github"
   },
   "source": [
    "<a href=\"https://colab.research.google.com/github/Adam-Harris87/advanced-topics/blob/main/fizz_buzz_classifier.ipynb\" target=\"_parent\"><img src=\"https://colab.research.google.com/assets/colab-badge.svg\" alt=\"Open In Colab\"/></a>"
   ]
  },
  {
   "cell_type": "markdown",
   "metadata": {
    "id": "w4NinOSa9cNa"
   },
   "source": [
    "# Solving FizzBuzz with Keras"
   ]
  },
  {
   "cell_type": "markdown",
   "metadata": {
    "id": "0StupTcv9cNc"
   },
   "source": [
    "## Overview\n",
    "- This notebook provides an example Keras network to solve FizzBuzz.\n",
    "- This is a supervised classification problem, so we'll train our model on labeled data.\n"
   ]
  },
  {
   "cell_type": "markdown",
   "metadata": {
    "id": "Fzth4Fox9cNc"
   },
   "source": [
    "## What is FizzBuzz?\n",
    "FizzBuzz is a common programming interview problem. Here's the setup.\n",
    "- Write a program that outputs all the integers from 1 to 100.\n",
    "- If the number is a multpile of 3, then output the string \"Fizz\"\n",
    "- If the number is a multiple of 5, then output the string \"Buzz\"\n",
    "- If the number is a multiple of 15, output the string \"FizzBuzz\"\n",
    "- For any other number, output that, number itself."
   ]
  },
  {
   "cell_type": "code",
   "execution_count": 1,
   "metadata": {
    "id": "fZCzteSU9cNd"
   },
   "outputs": [
    {
     "name": "stderr",
     "output_type": "stream",
     "text": [
      "2023-05-23 14:40:25.076724: I tensorflow/core/platform/cpu_feature_guard.cc:193] This TensorFlow binary is optimized with oneAPI Deep Neural Network Library (oneDNN) to use the following CPU instructions in performance-critical operations:  SSE4.1 SSE4.2\n",
      "To enable them in other operations, rebuild TensorFlow with the appropriate compiler flags.\n"
     ]
    }
   ],
   "source": [
    "import warnings\n",
    "warnings.filterwarnings('ignore')\n",
    "\n",
    "# imports\n",
    "import numpy as np\n",
    "from keras.models import Sequential\n",
    "from keras.layers import Dense\n",
    "from keras.utils import np_utils\n",
    "from keras.models import Model"
   ]
  },
  {
   "cell_type": "code",
   "execution_count": 2,
   "metadata": {
    "id": "HkIgXZeO9cNe"
   },
   "outputs": [],
   "source": [
    "# Specify the number of binary digits. \n",
    "NUM_DIGITS = 10"
   ]
  },
  {
   "cell_type": "code",
   "execution_count": 3,
   "metadata": {
    "id": "F2jOy7hE9cNe"
   },
   "outputs": [],
   "source": [
    "## Setup the training data for 101-1024. 1024 is the highest number countable with 10 binary digits\n",
    "raw_training_data = np.array(range(101, 2**NUM_DIGITS))"
   ]
  },
  {
   "cell_type": "code",
   "execution_count": 4,
   "metadata": {
    "colab": {
     "base_uri": "https://localhost:8080/"
    },
    "id": "ovvgFMQs9cNe",
    "outputId": "147760b6-9f67-4a9b-a1cb-c5212610dde0"
   },
   "outputs": [
    {
     "data": {
      "text/plain": [
       "array([101, 102, 103, 104, 105, 106, 107, 108, 109, 110, 111, 112, 113,\n",
       "       114, 115, 116, 117, 118, 119, 120])"
      ]
     },
     "execution_count": 4,
     "metadata": {},
     "output_type": "execute_result"
    }
   ],
   "source": [
    "## This is a numpy array of integers.\n",
    "raw_training_data[0:20]"
   ]
  },
  {
   "cell_type": "code",
   "execution_count": 5,
   "metadata": {
    "id": "w1gCUMcS9cNf"
   },
   "outputs": [],
   "source": [
    "# We need to binary encode our inputs\n",
    "def binary_encode(i, NUM_DIGITS):\n",
    "    return np.array([i >> d & 1 for d in range(NUM_DIGITS)])"
   ]
  },
  {
   "cell_type": "code",
   "execution_count": 6,
   "metadata": {
    "colab": {
     "base_uri": "https://localhost:8080/"
    },
    "id": "urFGsnoi9cNf",
    "outputId": "0e8fe64b-e7a6-4163-de78-3fe9ca8a2ca9"
   },
   "outputs": [
    {
     "name": "stdout",
     "output_type": "stream",
     "text": [
      "1 [1 0 0 0 0 0 0 0 0 0]\n",
      "2 [0 1 0 0 0 0 0 0 0 0]\n",
      "3 [1 1 0 0 0 0 0 0 0 0]\n",
      "4 [0 0 1 0 0 0 0 0 0 0]\n"
     ]
    }
   ],
   "source": [
    "print(1, binary_encode(1, NUM_DIGITS))\n",
    "print(2, binary_encode(2, NUM_DIGITS))\n",
    "print(3, binary_encode(3, NUM_DIGITS))\n",
    "print(4, binary_encode(4, NUM_DIGITS))\n"
   ]
  },
  {
   "cell_type": "code",
   "execution_count": 7,
   "metadata": {
    "colab": {
     "base_uri": "https://localhost:8080/"
    },
    "id": "-OJ8Ryo19cNf",
    "outputId": "271f133b-18c8-4301-a209-4a3e5c0ef50a"
   },
   "outputs": [
    {
     "data": {
      "text/plain": [
       "array([1, 1, 0, 0, 0, 0, 0, 0, 0, 0])"
      ]
     },
     "execution_count": 7,
     "metadata": {},
     "output_type": "execute_result"
    }
   ],
   "source": [
    "binary_encode(3, NUM_DIGITS)"
   ]
  },
  {
   "cell_type": "code",
   "execution_count": null,
   "metadata": {
    "id": "DnDkCvf79cNg"
   },
   "outputs": [],
   "source": []
  },
  {
   "cell_type": "code",
   "execution_count": 8,
   "metadata": {
    "colab": {
     "base_uri": "https://localhost:8080/"
    },
    "id": "0n3M1CFU9cNg",
    "outputId": "fae6d247-c74b-425d-a525-6eeb2c5efecc"
   },
   "outputs": [
    {
     "name": "stdout",
     "output_type": "stream",
     "text": [
      "256 [0 0 0 0 0 0 0 0 1 0]\n",
      "512 [0 0 0 0 0 0 0 0 0 1]\n",
      "1023 [1 1 1 1 1 1 1 1 1 1]\n"
     ]
    }
   ],
   "source": [
    "print(256, binary_encode(256, NUM_DIGITS))\n",
    "print(512, binary_encode(512, NUM_DIGITS))\n",
    "print(1023, binary_encode(1023, NUM_DIGITS))"
   ]
  },
  {
   "cell_type": "code",
   "execution_count": 9,
   "metadata": {
    "id": "87M4qEHr9cNg"
   },
   "outputs": [],
   "source": [
    "encoded_training_data = [binary_encode(i, NUM_DIGITS) for i in raw_training_data]"
   ]
  },
  {
   "cell_type": "code",
   "execution_count": 10,
   "metadata": {
    "colab": {
     "base_uri": "https://localhost:8080/"
    },
    "id": "aPj_d5Ml9cNh",
    "outputId": "691e0733-a12f-453a-d8c0-8c4d4d46004c"
   },
   "outputs": [
    {
     "data": {
      "text/plain": [
       "array([1, 0, 1, 0, 0, 1, 1, 0, 0, 0])"
      ]
     },
     "execution_count": 10,
     "metadata": {},
     "output_type": "execute_result"
    }
   ],
   "source": [
    "x_train = np.array(encoded_training_data)\n",
    "x_train[0]"
   ]
  },
  {
   "cell_type": "code",
   "execution_count": null,
   "metadata": {
    "id": "KVv53nHY9cNi"
   },
   "outputs": [],
   "source": []
  },
  {
   "cell_type": "code",
   "execution_count": 11,
   "metadata": {
    "id": "dRp466h59cNi"
   },
   "outputs": [],
   "source": [
    "# List out the state space. What are the different states that the data could be in:\n",
    "# there's only 4 options/states in the FizzBuzz setup\n",
    "# A number is a multiple of 3 and 5, only 3, only 5, or it ain't\n",
    "# Now we'll need to one hot encode the training data for y\n",
    "def fizz_buzz_encode(i):\n",
    "    if i % 15 == 0:\n",
    "        return np.array([0, 0, 0, 1]) # encoding for \"fizzbuzz\"\n",
    "    elif i % 5 == 0: \n",
    "        return np.array([0, 0, 1, 0]) # encoding for \"buzz\"\n",
    "    elif i % 3  == 0: \n",
    "        return np.array([0, 1, 0, 0]) # encoding for \"fizz\"\n",
    "    else:\n",
    "        return np.array([1, 0, 0, 0]) # encoding for the number output"
   ]
  },
  {
   "cell_type": "code",
   "execution_count": 12,
   "metadata": {
    "colab": {
     "base_uri": "https://localhost:8080/"
    },
    "id": "mCF-UXPM9cNi",
    "outputId": "ad27a33a-ed4d-4aa8-a484-50c4380690ee"
   },
   "outputs": [
    {
     "name": "stdout",
     "output_type": "stream",
     "text": [
      "Return only the number [1 0 0 0]\n",
      "Multiple of 3 [0 1 0 0]\n",
      "Multiple of 5 [0 0 1 0]\n",
      "Return only the number [1 0 0 0]\n",
      "Multiple of both 3 and 5 [0 0 0 1]\n"
     ]
    }
   ],
   "source": [
    "print(\"Return only the number\", fizz_buzz_encode(1))\n",
    "print(\"Multiple of 3\", fizz_buzz_encode(3))\n",
    "print(\"Multiple of 5\", fizz_buzz_encode(5))\n",
    "print(\"Return only the number\", fizz_buzz_encode(7))\n",
    "print(\"Multiple of both 3 and 5\", fizz_buzz_encode(15))"
   ]
  },
  {
   "cell_type": "code",
   "execution_count": 13,
   "metadata": {
    "colab": {
     "base_uri": "https://localhost:8080/"
    },
    "id": "D2WEnxl_9cNi",
    "outputId": "cd0e8d55-1e18-41fe-e173-e62d9ffa6127",
    "scrolled": true
   },
   "outputs": [
    {
     "data": {
      "text/plain": [
       "array([[1, 0, 0, 0],\n",
       "       [0, 1, 0, 0],\n",
       "       [1, 0, 0, 0],\n",
       "       ...,\n",
       "       [1, 0, 0, 0],\n",
       "       [1, 0, 0, 0],\n",
       "       [0, 1, 0, 0]])"
      ]
     },
     "execution_count": 13,
     "metadata": {},
     "output_type": "execute_result"
    }
   ],
   "source": [
    "# y_train is the encoded output. \n",
    "# This is our \"labeled data\" for supervised learning\n",
    "y_train = np.array([fizz_buzz_encode(i) for i in range(101, 2 ** NUM_DIGITS)])\n",
    "y_train"
   ]
  },
  {
   "cell_type": "code",
   "execution_count": 14,
   "metadata": {
    "id": "O4JNS4X_9cNi"
   },
   "outputs": [
    {
     "name": "stderr",
     "output_type": "stream",
     "text": [
      "2023-05-23 14:44:50.233298: I tensorflow/core/platform/cpu_feature_guard.cc:193] This TensorFlow binary is optimized with oneAPI Deep Neural Network Library (oneDNN) to use the following CPU instructions in performance-critical operations:  SSE4.1 SSE4.2\n",
      "To enable them in other operations, rebuild TensorFlow with the appropriate compiler flags.\n"
     ]
    }
   ],
   "source": [
    "# Now let's build our model, add layers, compile, and fit it!\n",
    "model = Sequential()"
   ]
  },
  {
   "cell_type": "code",
   "execution_count": 15,
   "metadata": {
    "id": "YSZ0tyqm9cNi"
   },
   "outputs": [],
   "source": [
    "## Add the model's layers. \n",
    "model.add(Dense(1000, input_dim=NUM_DIGITS, activation=\"relu\"))\n",
    "model.add(Dense(1000, activation=\"relu\"))\n",
    "model.add(Dense(4, activation=\"softmax\"))"
   ]
  },
  {
   "cell_type": "code",
   "execution_count": 16,
   "metadata": {
    "id": "dKsAqvBn9cNj"
   },
   "outputs": [],
   "source": [
    "# categorical cross entropy is the recommended loss function for \n",
    "# metrics is a good\n",
    "model.compile(loss='categorical_crossentropy', optimizer='adagrad', metrics=[\"accuracy\"])"
   ]
  },
  {
   "cell_type": "code",
   "execution_count": 37,
   "metadata": {
    "colab": {
     "base_uri": "https://localhost:8080/"
    },
    "id": "xTVkxJgf9cNj",
    "outputId": "d80297e8-de29-4a48-8d87-728e728dce53"
   },
   "outputs": [
    {
     "name": "stdout",
     "output_type": "stream",
     "text": [
      "Epoch 1/10\n",
      "8/8 [==============================] - 0s 7ms/step - loss: 1.1492 - accuracy: 0.5341\n",
      "Epoch 2/10\n",
      "8/8 [==============================] - 0s 7ms/step - loss: 1.1489 - accuracy: 0.5341\n",
      "Epoch 3/10\n",
      "8/8 [==============================] - 0s 7ms/step - loss: 1.1487 - accuracy: 0.5341\n",
      "Epoch 4/10\n",
      "8/8 [==============================] - 0s 7ms/step - loss: 1.1484 - accuracy: 0.5341\n",
      "Epoch 5/10\n",
      "8/8 [==============================] - 0s 7ms/step - loss: 1.1482 - accuracy: 0.5341\n",
      "Epoch 6/10\n",
      "8/8 [==============================] - 0s 7ms/step - loss: 1.1479 - accuracy: 0.5341\n",
      "Epoch 7/10\n",
      "8/8 [==============================] - 0s 7ms/step - loss: 1.1478 - accuracy: 0.5341\n",
      "Epoch 8/10\n",
      "8/8 [==============================] - 0s 6ms/step - loss: 1.1477 - accuracy: 0.5341\n",
      "Epoch 9/10\n",
      "8/8 [==============================] - 0s 7ms/step - loss: 1.1475 - accuracy: 0.5341\n",
      "Epoch 10/10\n",
      "8/8 [==============================] - 0s 6ms/step - loss: 1.1472 - accuracy: 0.5341\n"
     ]
    },
    {
     "data": {
      "text/plain": [
       "<keras.callbacks.History at 0x7f891a373730>"
      ]
     },
     "execution_count": 37,
     "metadata": {},
     "output_type": "execute_result"
    }
   ],
   "source": [
    "model.fit(x_train, y_train, epochs=10, batch_size=128)"
   ]
  },
  {
   "cell_type": "code",
   "execution_count": 19,
   "metadata": {
    "id": "-K_DxLdC9cNj"
   },
   "outputs": [],
   "source": [
    "# convert fizzbuzz to binary\n",
    "def fizz_buzz(i, prediction):\n",
    "    return [str(i), \"fizz\", \"buzz\", \"fizzbuzz\"][prediction]\n"
   ]
  },
  {
   "cell_type": "code",
   "execution_count": 71,
   "metadata": {
    "id": "q32m5j0C9cNj"
   },
   "outputs": [
    {
     "name": "stdout",
     "output_type": "stream",
     "text": [
      "4/4 [==============================] - 0s 3ms/step\n"
     ]
    }
   ],
   "source": [
    "# Setup x_test  fizzbuzz for prime numbers from 1 to 100\n",
    "numbers = np.arange(1, 101)\n",
    "x_test = np.transpose(binary_encode(numbers, NUM_DIGITS))\n",
    "y_test = model.predict(x_test)"
   ]
  },
  {
   "cell_type": "code",
   "execution_count": 69,
   "metadata": {},
   "outputs": [
    {
     "data": {
      "text/plain": [
       "array([[0.3573354 , 0.26810592, 0.2025595 , 0.17199926],\n",
       "       [0.35477298, 0.26449952, 0.20791318, 0.17281428],\n",
       "       [0.3873199 , 0.27130502, 0.19151808, 0.14985704],\n",
       "       [0.35788938, 0.27185252, 0.20142962, 0.16882847],\n",
       "       [0.39233065, 0.27702615, 0.1813557 , 0.1492876 ],\n",
       "       [0.39269856, 0.2752226 , 0.18683907, 0.14523987],\n",
       "       [0.42573515, 0.2773853 , 0.16977231, 0.12710719],\n",
       "       [0.35069758, 0.26159483, 0.21169512, 0.17601249],\n",
       "       [0.3920533 , 0.26250592, 0.19138236, 0.15405837],\n",
       "       [0.39101613, 0.2616855 , 0.19508076, 0.15221769],\n",
       "       [0.42576304, 0.26227823, 0.1762251 , 0.13573371],\n",
       "       [0.38692364, 0.26938242, 0.19302267, 0.15067129],\n",
       "       [0.42753184, 0.26925024, 0.17141166, 0.13180631],\n",
       "       [0.4277978 , 0.26995352, 0.17416066, 0.12808803],\n",
       "       [0.46166062, 0.26944557, 0.15669493, 0.11219889],\n",
       "       [0.35535306, 0.27071467, 0.20492001, 0.1690123 ],\n",
       "       [0.3907574 , 0.27436504, 0.18946461, 0.14541298],\n",
       "       [0.38838506, 0.26509595, 0.19690934, 0.14960955],\n",
       "       [0.43113494, 0.2685132 , 0.17295818, 0.1273936 ],\n",
       "       [0.39294115, 0.27341074, 0.18728746, 0.14636073],\n",
       "       [0.4286427 , 0.27826   , 0.16616797, 0.12692928],\n",
       "       [0.42956677, 0.27107835, 0.17304108, 0.1263138 ],\n",
       "       [0.460837  , 0.2762008 , 0.15387154, 0.10909059],\n",
       "       [0.39001426, 0.2646283 , 0.19569293, 0.14966448],\n",
       "       [0.42804846, 0.26708177, 0.17558445, 0.12928526],\n",
       "       [0.42238775, 0.25972402, 0.18476884, 0.13311939],\n",
       "       [0.4653819 , 0.2599321 , 0.16130634, 0.11337969],\n",
       "       [0.42891246, 0.26527467, 0.17877223, 0.12704073],\n",
       "       [0.46306705, 0.26859507, 0.15655261, 0.11178531],\n",
       "       [0.4638069 , 0.2646007 , 0.16270702, 0.10888541],\n",
       "       [0.50169104, 0.26210874, 0.14198932, 0.09421088],\n",
       "       [0.3588236 , 0.2619299 , 0.2113655 , 0.16788106],\n",
       "       [0.3953051 , 0.264316  , 0.19013172, 0.15024711],\n",
       "       [0.38852343, 0.26485518, 0.20178857, 0.14483286],\n",
       "       [0.4241599 , 0.26889685, 0.17905788, 0.12788536],\n",
       "       [0.3983315 , 0.26963827, 0.18760371, 0.14442651],\n",
       "       [0.43206692, 0.2697957 , 0.16822892, 0.12990846],\n",
       "       [0.42886123, 0.2710436 , 0.17711791, 0.12297731],\n",
       "       [0.46122196, 0.2713889 , 0.15773503, 0.10965414],\n",
       "       [0.3992538 , 0.25995493, 0.19637184, 0.14441943],\n",
       "       [0.4341828 , 0.25566795, 0.18002339, 0.13012587],\n",
       "       [0.43010566, 0.26072106, 0.18656212, 0.12261111],\n",
       "       [0.4595872 , 0.26190412, 0.16641757, 0.1120911 ],\n",
       "       [0.43186328, 0.26626232, 0.17785266, 0.12402172],\n",
       "       [0.47009578, 0.26137143, 0.15713404, 0.11139873],\n",
       "       [0.4678772 , 0.2651842 , 0.16232866, 0.10460994],\n",
       "       [0.49608177, 0.26516947, 0.14377876, 0.09496988],\n",
       "       [0.3916997 , 0.26594713, 0.19881594, 0.14353713],\n",
       "       [0.4260409 , 0.26959953, 0.17581683, 0.12854272],\n",
       "       [0.42304975, 0.26344076, 0.18738455, 0.1261249 ],\n",
       "       [0.45570338, 0.2677644 , 0.16543275, 0.11109936],\n",
       "       [0.43015802, 0.267972  , 0.17824467, 0.12362529],\n",
       "       [0.46771505, 0.26727527, 0.15400104, 0.11100867],\n",
       "       [0.46187657, 0.26736113, 0.1638903 , 0.10687193],\n",
       "       [0.49674186, 0.26673073, 0.1428019 , 0.09372556],\n",
       "       [0.43412825, 0.25908726, 0.18559243, 0.12119211],\n",
       "       [0.47043622, 0.25415355, 0.16736221, 0.10804798],\n",
       "       [0.46046227, 0.25998583, 0.17339976, 0.10615204],\n",
       "       [0.49608648, 0.257072  , 0.15351754, 0.09332405],\n",
       "       [0.47109115, 0.2584732 , 0.16612643, 0.10430922],\n",
       "       [0.51206744, 0.25096065, 0.14373182, 0.09324009],\n",
       "       [0.50608575, 0.25537163, 0.14981814, 0.08872453],\n",
       "       [0.53511405, 0.25470412, 0.1313856 , 0.07879631],\n",
       "       [0.37072754, 0.26354185, 0.19325686, 0.17247368],\n",
       "       [0.39556336, 0.2742697 , 0.17933373, 0.15083311],\n",
       "       [0.40349686, 0.26337072, 0.18087713, 0.15225528],\n",
       "       [0.4307853 , 0.27321675, 0.16565557, 0.13034241],\n",
       "       [0.40204138, 0.27672246, 0.17453988, 0.14669627],\n",
       "       [0.43185878, 0.2819951 , 0.15729421, 0.12885189],\n",
       "       [0.44050193, 0.27290857, 0.15972236, 0.12686713],\n",
       "       [0.46750283, 0.28074566, 0.1439861 , 0.10776544],\n",
       "       [0.4051335 , 0.25792503, 0.18279009, 0.15415142],\n",
       "       [0.43934953, 0.26107767, 0.16511121, 0.13446154],\n",
       "       [0.4464535 , 0.2529942 , 0.16811189, 0.13244045],\n",
       "       [0.47387466, 0.2577173 , 0.151867  , 0.11654106],\n",
       "       [0.44038853, 0.26595685, 0.16309105, 0.13056354],\n",
       "       [0.46974367, 0.2700539 , 0.14599018, 0.11421228],\n",
       "       [0.4815798 , 0.2615551 , 0.1452731 , 0.11159194],\n",
       "       [0.51066   , 0.26158094, 0.13204117, 0.09571787],\n",
       "       [0.39307937, 0.27899393, 0.18088005, 0.14704658],\n",
       "       [0.42700583, 0.28347048, 0.16521902, 0.12430464],\n",
       "       [0.43115044, 0.27059165, 0.16907497, 0.1291829 ],\n",
       "       [0.46115077, 0.27308008, 0.15429875, 0.11147048],\n",
       "       [0.4310552 , 0.28248423, 0.16208252, 0.12437808],\n",
       "       [0.46451995, 0.28409615, 0.14392185, 0.10746206],\n",
       "       [0.4684796 , 0.27531114, 0.14778191, 0.10842735],\n",
       "       [0.49624905, 0.27935097, 0.13163258, 0.09276734],\n",
       "       [0.43296283, 0.2657347 , 0.17065434, 0.13064809],\n",
       "       [0.46877235, 0.26599824, 0.15328781, 0.11194158],\n",
       "       [0.46966934, 0.2584763 , 0.1557452 , 0.11610918],\n",
       "       [0.50407654, 0.25710803, 0.14030373, 0.09851173],\n",
       "       [0.4698072 , 0.2672706 , 0.15215723, 0.11076496],\n",
       "       [0.50098854, 0.26970378, 0.13378884, 0.09551884],\n",
       "       [0.51162344, 0.2600671 , 0.13338295, 0.09492657],\n",
       "       [0.54119194, 0.25832522, 0.11881543, 0.08166741],\n",
       "       [0.40905893, 0.2638064 , 0.181878  , 0.1452567 ],\n",
       "       [0.44244736, 0.2643532 , 0.16468577, 0.12851371],\n",
       "       [0.4436099 , 0.26049775, 0.16841963, 0.12747268],\n",
       "       [0.47504947, 0.26330048, 0.15258561, 0.10906438],\n",
       "       [0.44068593, 0.27471828, 0.16186833, 0.12272745]], dtype=float32)"
      ]
     },
     "execution_count": 69,
     "metadata": {},
     "output_type": "execute_result"
    }
   ],
   "source": [
    "y_test"
   ]
  },
  {
   "cell_type": "code",
   "execution_count": 66,
   "metadata": {
    "colab": {
     "base_uri": "https://localhost:8080/"
    },
    "id": "XURzcu-69cNj",
    "outputId": "29598a47-9d64-4d9e-c32b-4c0918d62929"
   },
   "outputs": [
    {
     "name": "stdout",
     "output_type": "stream",
     "text": [
      "<numpy.vectorize object at 0x7f89105cca00>\n"
     ]
    }
   ],
   "source": [
    "# Setup predicted output\n",
    "predictions = np.vectorize(fizz_buzz, numbers, y_test)\n",
    "print (predictions)"
   ]
  },
  {
   "cell_type": "code",
   "execution_count": 31,
   "metadata": {
    "colab": {
     "base_uri": "https://localhost:8080/"
    },
    "id": "J_UUh3ql9cNj",
    "outputId": "d07fac4a-278f-4aae-e90e-b0805f175d7d"
   },
   "outputs": [
    {
     "name": "stdout",
     "output_type": "stream",
     "text": [
      "['1' '2' 'fizz' '4' 'buzz' 'fizz' '7' '8' 'fizz' 'buzz' '11' 'fizz' '13'\n",
      " '14' 'fizzbuzz' '16' '17' 'fizz' '19' 'buzz' 'fizz' '22' '23' 'fizz'\n",
      " 'buzz' '26' 'fizz' '28' '29' 'fizzbuzz' '31' '32' 'fizz' '34' 'buzz'\n",
      " 'fizz' '37' '38' 'fizz' 'buzz' '41' 'fizz' '43' '44' 'fizzbuzz' '46' '47'\n",
      " 'fizz' '49' 'buzz' 'fizz' '52' '53' 'fizz' 'buzz' '56' 'fizz' '58' '59'\n",
      " 'fizzbuzz' '61' '62' 'fizz' '64' 'buzz' 'fizz' '67' '68' 'fizz' 'buzz'\n",
      " '71' 'fizz' '73' '74' 'fizzbuzz' '76' '77' 'fizz' '79' 'buzz' 'fizz' '82'\n",
      " '83' 'fizz' 'buzz' '86' 'fizz' '88' '89' 'fizzbuzz' '91' '92' 'fizz' '94'\n",
      " 'buzz' 'fizz' '97' '98' 'fizz' 'buzz']\n"
     ]
    }
   ],
   "source": [
    "# correct answers for fizzbuzz on 1-100, these are our actual values\n",
    "answer = np.array([])\n",
    "for i in numbers:\n",
    "    if i % 15 == 0: \n",
    "        answer = np.append(answer, \"fizzbuzz\")\n",
    "    elif i % 5 == 0: \n",
    "        answer = np.append(answer, \"buzz\")\n",
    "    elif i % 3 == 0: \n",
    "        answer = np.append(answer, \"fizz\")\n",
    "    else: answer = np.append(answer, str(i))\n",
    "print (answer)"
   ]
  },
  {
   "cell_type": "code",
   "execution_count": 68,
   "metadata": {
    "colab": {
     "base_uri": "https://localhost:8080/"
    },
    "id": "jDvVNRk59cNk",
    "outputId": "05da3a07-ce35-44e0-8884-145fc5e14e9c"
   },
   "outputs": [
    {
     "name": "stdout",
     "output_type": "stream",
     "text": [
      "0.0\n"
     ]
    }
   ],
   "source": [
    "# Let's evaluate the model's predictions\n",
    "evaluate = np.array(answer == predictions)\n",
    "print (np.count_nonzero(evaluate == True) / 100)"
   ]
  },
  {
   "cell_type": "code",
   "execution_count": 67,
   "metadata": {
    "colab": {
     "base_uri": "https://localhost:8080/"
    },
    "id": "X_hZs97h9cNk",
    "outputId": "46beaf60-a255-45ad-f5f0-b4380cf1b50e"
   },
   "outputs": [
    {
     "data": {
      "text/plain": [
       "array([False, False, False, False, False, False, False, False, False,\n",
       "       False, False, False, False, False, False, False, False, False,\n",
       "       False, False, False, False, False, False, False, False, False,\n",
       "       False, False, False, False, False, False, False, False, False,\n",
       "       False, False, False, False, False, False, False, False, False,\n",
       "       False, False, False, False, False, False, False, False, False,\n",
       "       False, False, False, False, False, False, False, False, False,\n",
       "       False, False, False, False, False, False, False, False, False,\n",
       "       False, False, False, False, False, False, False, False, False,\n",
       "       False, False, False, False, False, False, False, False, False,\n",
       "       False, False, False, False, False, False, False, False, False,\n",
       "       False])"
      ]
     },
     "execution_count": 67,
     "metadata": {},
     "output_type": "execute_result"
    }
   ],
   "source": [
    "answer == predictions"
   ]
  },
  {
   "cell_type": "markdown",
   "metadata": {
    "id": "GHpOCbUh9cNk"
   },
   "source": [
    "# Exercise\n",
    "1. Reassign the NUM_DIGITS to be 5 and re-run the notebook. What do you notice? Take note of the accuracy number.\n",
    "2. Reassign the NUM_DIGITS to be 11 and re-run the notebook. What do you notice? Take note of the accuracy number. \n",
    "3. In the `model.fit` code, change the nb_epoch to be a lower number and then completely rerun the notebook?\n",
    "4. In the `model.fit` code, change the nb_epoch to be a higher number and then completely rerun the notebook?\n",
    "5. Experiment with adding extra layers to the model\n",
    "6. Experiment with changing the first number of layers argument going into `model.add(Dense(1000, activation=\"relu\"))`\n",
    "7. Experiment with different activation functions (look to the Keras documentation)\n",
    "8. How good can your model get in classifying out-of-sample numbers for FizzBuzz?"
   ]
  },
  {
   "cell_type": "code",
   "execution_count": null,
   "metadata": {
    "id": "0abAEWFA9cNk"
   },
   "outputs": [],
   "source": []
  }
 ],
 "metadata": {
  "colab": {
   "include_colab_link": true,
   "provenance": []
  },
  "kernelspec": {
   "display_name": "Python 3 (ipykernel)",
   "language": "python",
   "name": "python3"
  },
  "language_info": {
   "codemirror_mode": {
    "name": "ipython",
    "version": 3
   },
   "file_extension": ".py",
   "mimetype": "text/x-python",
   "name": "python",
   "nbconvert_exporter": "python",
   "pygments_lexer": "ipython3",
   "version": "3.8.16"
  }
 },
 "nbformat": 4,
 "nbformat_minor": 1
}
